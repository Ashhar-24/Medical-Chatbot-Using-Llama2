{
 "cells": [
  {
   "cell_type": "code",
   "execution_count": 1,
   "metadata": {},
   "outputs": [
    {
     "name": "stdout",
     "output_type": "stream",
     "text": [
      "Requirement already satisfied: langchain in c:\\users\\rohit\\appdata\\local\\programs\\python\\python311\\lib\\site-packages (0.2.0)\n",
      "Requirement already satisfied: pinecone in c:\\users\\rohit\\appdata\\local\\programs\\python\\python311\\lib\\site-packages (4.0.0)\n",
      "Requirement already satisfied: PyYAML>=5.3 in c:\\users\\rohit\\appdata\\local\\programs\\python\\python311\\lib\\site-packages (from langchain) (6.0.1)\n",
      "Requirement already satisfied: SQLAlchemy<3,>=1.4 in c:\\users\\rohit\\appdata\\local\\programs\\python\\python311\\lib\\site-packages (from langchain) (2.0.30)\n",
      "Requirement already satisfied: aiohttp<4.0.0,>=3.8.3 in c:\\users\\rohit\\appdata\\local\\programs\\python\\python311\\lib\\site-packages (from langchain) (3.9.5)\n",
      "Requirement already satisfied: dataclasses-json<0.7,>=0.5.7 in c:\\users\\rohit\\appdata\\local\\programs\\python\\python311\\lib\\site-packages (from langchain) (0.6.6)\n",
      "Requirement already satisfied: langchain-core<0.3.0,>=0.2.0 in c:\\users\\rohit\\appdata\\local\\programs\\python\\python311\\lib\\site-packages (from langchain) (0.2.0)\n",
      "Requirement already satisfied: langchain-text-splitters<0.3.0,>=0.2.0 in c:\\users\\rohit\\appdata\\local\\programs\\python\\python311\\lib\\site-packages (from langchain) (0.2.0)\n",
      "Requirement already satisfied: langsmith<0.2.0,>=0.1.17 in c:\\users\\rohit\\appdata\\local\\programs\\python\\python311\\lib\\site-packages (from langchain) (0.1.59)\n",
      "Requirement already satisfied: numpy<2,>=1 in c:\\users\\rohit\\appdata\\local\\programs\\python\\python311\\lib\\site-packages (from langchain) (1.26.4)\n",
      "Requirement already satisfied: pydantic<3,>=1 in c:\\users\\rohit\\appdata\\local\\programs\\python\\python311\\lib\\site-packages (from langchain) (2.7.1)\n",
      "Requirement already satisfied: requests<3,>=2 in c:\\users\\rohit\\appdata\\local\\programs\\python\\python311\\lib\\site-packages (from langchain) (2.31.0)\n",
      "Requirement already satisfied: tenacity<9.0.0,>=8.1.0 in c:\\users\\rohit\\appdata\\local\\programs\\python\\python311\\lib\\site-packages (from langchain) (8.3.0)\n",
      "Requirement already satisfied: certifi>=2019.11.17 in c:\\users\\rohit\\appdata\\local\\programs\\python\\python311\\lib\\site-packages (from pinecone) (2024.2.2)\n",
      "Requirement already satisfied: tqdm>=4.64.1 in c:\\users\\rohit\\appdata\\local\\programs\\python\\python311\\lib\\site-packages (from pinecone) (4.66.4)\n",
      "Requirement already satisfied: typing-extensions>=3.7.4 in c:\\users\\rohit\\appdata\\roaming\\python\\python311\\site-packages (from pinecone) (4.11.0)\n",
      "Requirement already satisfied: urllib3>=1.26.0 in c:\\users\\rohit\\appdata\\local\\programs\\python\\python311\\lib\\site-packages (from pinecone) (2.2.1)\n",
      "Requirement already satisfied: aiosignal>=1.1.2 in c:\\users\\rohit\\appdata\\local\\programs\\python\\python311\\lib\\site-packages (from aiohttp<4.0.0,>=3.8.3->langchain) (1.3.1)\n",
      "Requirement already satisfied: attrs>=17.3.0 in c:\\users\\rohit\\appdata\\local\\programs\\python\\python311\\lib\\site-packages (from aiohttp<4.0.0,>=3.8.3->langchain) (23.2.0)\n",
      "Requirement already satisfied: frozenlist>=1.1.1 in c:\\users\\rohit\\appdata\\local\\programs\\python\\python311\\lib\\site-packages (from aiohttp<4.0.0,>=3.8.3->langchain) (1.4.1)\n",
      "Requirement already satisfied: multidict<7.0,>=4.5 in c:\\users\\rohit\\appdata\\local\\programs\\python\\python311\\lib\\site-packages (from aiohttp<4.0.0,>=3.8.3->langchain) (6.0.5)\n",
      "Requirement already satisfied: yarl<2.0,>=1.0 in c:\\users\\rohit\\appdata\\local\\programs\\python\\python311\\lib\\site-packages (from aiohttp<4.0.0,>=3.8.3->langchain) (1.9.4)\n",
      "Requirement already satisfied: marshmallow<4.0.0,>=3.18.0 in c:\\users\\rohit\\appdata\\local\\programs\\python\\python311\\lib\\site-packages (from dataclasses-json<0.7,>=0.5.7->langchain) (3.21.2)\n",
      "Requirement already satisfied: typing-inspect<1,>=0.4.0 in c:\\users\\rohit\\appdata\\local\\programs\\python\\python311\\lib\\site-packages (from dataclasses-json<0.7,>=0.5.7->langchain) (0.9.0)\n",
      "Requirement already satisfied: jsonpatch<2.0,>=1.33 in c:\\users\\rohit\\appdata\\local\\programs\\python\\python311\\lib\\site-packages (from langchain-core<0.3.0,>=0.2.0->langchain) (1.33)\n",
      "Requirement already satisfied: packaging<24.0,>=23.2 in c:\\users\\rohit\\appdata\\local\\programs\\python\\python311\\lib\\site-packages (from langchain-core<0.3.0,>=0.2.0->langchain) (23.2)\n",
      "Requirement already satisfied: orjson<4.0.0,>=3.9.14 in c:\\users\\rohit\\appdata\\local\\programs\\python\\python311\\lib\\site-packages (from langsmith<0.2.0,>=0.1.17->langchain) (3.10.3)\n",
      "Requirement already satisfied: annotated-types>=0.4.0 in c:\\users\\rohit\\appdata\\local\\programs\\python\\python311\\lib\\site-packages (from pydantic<3,>=1->langchain) (0.6.0)\n",
      "Requirement already satisfied: pydantic-core==2.18.2 in c:\\users\\rohit\\appdata\\local\\programs\\python\\python311\\lib\\site-packages (from pydantic<3,>=1->langchain) (2.18.2)\n",
      "Requirement already satisfied: charset-normalizer<4,>=2 in c:\\users\\rohit\\appdata\\local\\programs\\python\\python311\\lib\\site-packages (from requests<3,>=2->langchain) (3.3.2)\n",
      "Requirement already satisfied: idna<4,>=2.5 in c:\\users\\rohit\\appdata\\local\\programs\\python\\python311\\lib\\site-packages (from requests<3,>=2->langchain) (3.7)\n",
      "Requirement already satisfied: greenlet!=0.4.17 in c:\\users\\rohit\\appdata\\local\\programs\\python\\python311\\lib\\site-packages (from SQLAlchemy<3,>=1.4->langchain) (3.0.3)\n",
      "Requirement already satisfied: colorama in c:\\users\\rohit\\appdata\\roaming\\python\\python311\\site-packages (from tqdm>=4.64.1->pinecone) (0.4.6)\n",
      "Requirement already satisfied: jsonpointer>=1.9 in c:\\users\\rohit\\appdata\\local\\programs\\python\\python311\\lib\\site-packages (from jsonpatch<2.0,>=1.33->langchain-core<0.3.0,>=0.2.0->langchain) (2.4)\n",
      "Requirement already satisfied: mypy-extensions>=0.3.0 in c:\\users\\rohit\\appdata\\local\\programs\\python\\python311\\lib\\site-packages (from typing-inspect<1,>=0.4.0->dataclasses-json<0.7,>=0.5.7->langchain) (1.0.0)\n",
      "Note: you may need to restart the kernel to use updated packages.\n"
     ]
    }
   ],
   "source": [
    "%pip install langchain pinecone"
   ]
  },
  {
   "cell_type": "code",
   "execution_count": 2,
   "metadata": {},
   "outputs": [
    {
     "name": "stdout",
     "output_type": "stream",
     "text": [
      "Requirement already satisfied: langchain-community in c:\\users\\rohit\\appdata\\local\\programs\\python\\python311\\lib\\site-packages (0.2.0)\n",
      "Requirement already satisfied: PyYAML>=5.3 in c:\\users\\rohit\\appdata\\local\\programs\\python\\python311\\lib\\site-packages (from langchain-community) (6.0.1)\n",
      "Requirement already satisfied: SQLAlchemy<3,>=1.4 in c:\\users\\rohit\\appdata\\local\\programs\\python\\python311\\lib\\site-packages (from langchain-community) (2.0.30)\n",
      "Requirement already satisfied: aiohttp<4.0.0,>=3.8.3 in c:\\users\\rohit\\appdata\\local\\programs\\python\\python311\\lib\\site-packages (from langchain-community) (3.9.5)\n",
      "Requirement already satisfied: dataclasses-json<0.7,>=0.5.7 in c:\\users\\rohit\\appdata\\local\\programs\\python\\python311\\lib\\site-packages (from langchain-community) (0.6.6)\n",
      "Requirement already satisfied: langchain<0.3.0,>=0.2.0 in c:\\users\\rohit\\appdata\\local\\programs\\python\\python311\\lib\\site-packages (from langchain-community) (0.2.0)\n",
      "Requirement already satisfied: langchain-core<0.3.0,>=0.2.0 in c:\\users\\rohit\\appdata\\local\\programs\\python\\python311\\lib\\site-packages (from langchain-community) (0.2.0)\n",
      "Requirement already satisfied: langsmith<0.2.0,>=0.1.0 in c:\\users\\rohit\\appdata\\local\\programs\\python\\python311\\lib\\site-packages (from langchain-community) (0.1.59)\n",
      "Requirement already satisfied: numpy<2,>=1 in c:\\users\\rohit\\appdata\\local\\programs\\python\\python311\\lib\\site-packages (from langchain-community) (1.26.4)\n",
      "Requirement already satisfied: requests<3,>=2 in c:\\users\\rohit\\appdata\\local\\programs\\python\\python311\\lib\\site-packages (from langchain-community) (2.31.0)\n",
      "Requirement already satisfied: tenacity<9.0.0,>=8.1.0 in c:\\users\\rohit\\appdata\\local\\programs\\python\\python311\\lib\\site-packages (from langchain-community) (8.3.0)\n",
      "Requirement already satisfied: aiosignal>=1.1.2 in c:\\users\\rohit\\appdata\\local\\programs\\python\\python311\\lib\\site-packages (from aiohttp<4.0.0,>=3.8.3->langchain-community) (1.3.1)\n",
      "Requirement already satisfied: attrs>=17.3.0 in c:\\users\\rohit\\appdata\\local\\programs\\python\\python311\\lib\\site-packages (from aiohttp<4.0.0,>=3.8.3->langchain-community) (23.2.0)\n",
      "Requirement already satisfied: frozenlist>=1.1.1 in c:\\users\\rohit\\appdata\\local\\programs\\python\\python311\\lib\\site-packages (from aiohttp<4.0.0,>=3.8.3->langchain-community) (1.4.1)\n",
      "Requirement already satisfied: multidict<7.0,>=4.5 in c:\\users\\rohit\\appdata\\local\\programs\\python\\python311\\lib\\site-packages (from aiohttp<4.0.0,>=3.8.3->langchain-community) (6.0.5)\n",
      "Requirement already satisfied: yarl<2.0,>=1.0 in c:\\users\\rohit\\appdata\\local\\programs\\python\\python311\\lib\\site-packages (from aiohttp<4.0.0,>=3.8.3->langchain-community) (1.9.4)\n",
      "Requirement already satisfied: marshmallow<4.0.0,>=3.18.0 in c:\\users\\rohit\\appdata\\local\\programs\\python\\python311\\lib\\site-packages (from dataclasses-json<0.7,>=0.5.7->langchain-community) (3.21.2)\n",
      "Requirement already satisfied: typing-inspect<1,>=0.4.0 in c:\\users\\rohit\\appdata\\local\\programs\\python\\python311\\lib\\site-packages (from dataclasses-json<0.7,>=0.5.7->langchain-community) (0.9.0)\n",
      "Requirement already satisfied: langchain-text-splitters<0.3.0,>=0.2.0 in c:\\users\\rohit\\appdata\\local\\programs\\python\\python311\\lib\\site-packages (from langchain<0.3.0,>=0.2.0->langchain-community) (0.2.0)\n",
      "Requirement already satisfied: pydantic<3,>=1 in c:\\users\\rohit\\appdata\\local\\programs\\python\\python311\\lib\\site-packages (from langchain<0.3.0,>=0.2.0->langchain-community) (2.7.1)\n",
      "Requirement already satisfied: jsonpatch<2.0,>=1.33 in c:\\users\\rohit\\appdata\\local\\programs\\python\\python311\\lib\\site-packages (from langchain-core<0.3.0,>=0.2.0->langchain-community) (1.33)\n",
      "Requirement already satisfied: packaging<24.0,>=23.2 in c:\\users\\rohit\\appdata\\local\\programs\\python\\python311\\lib\\site-packages (from langchain-core<0.3.0,>=0.2.0->langchain-community) (23.2)\n",
      "Requirement already satisfied: orjson<4.0.0,>=3.9.14 in c:\\users\\rohit\\appdata\\local\\programs\\python\\python311\\lib\\site-packages (from langsmith<0.2.0,>=0.1.0->langchain-community) (3.10.3)\n",
      "Requirement already satisfied: charset-normalizer<4,>=2 in c:\\users\\rohit\\appdata\\local\\programs\\python\\python311\\lib\\site-packages (from requests<3,>=2->langchain-community) (3.3.2)\n",
      "Requirement already satisfied: idna<4,>=2.5 in c:\\users\\rohit\\appdata\\local\\programs\\python\\python311\\lib\\site-packages (from requests<3,>=2->langchain-community) (3.7)\n",
      "Requirement already satisfied: urllib3<3,>=1.21.1 in c:\\users\\rohit\\appdata\\local\\programs\\python\\python311\\lib\\site-packages (from requests<3,>=2->langchain-community) (2.2.1)\n",
      "Requirement already satisfied: certifi>=2017.4.17 in c:\\users\\rohit\\appdata\\local\\programs\\python\\python311\\lib\\site-packages (from requests<3,>=2->langchain-community) (2024.2.2)\n",
      "Requirement already satisfied: typing-extensions>=4.6.0 in c:\\users\\rohit\\appdata\\roaming\\python\\python311\\site-packages (from SQLAlchemy<3,>=1.4->langchain-community) (4.11.0)\n",
      "Requirement already satisfied: greenlet!=0.4.17 in c:\\users\\rohit\\appdata\\local\\programs\\python\\python311\\lib\\site-packages (from SQLAlchemy<3,>=1.4->langchain-community) (3.0.3)\n",
      "Requirement already satisfied: jsonpointer>=1.9 in c:\\users\\rohit\\appdata\\local\\programs\\python\\python311\\lib\\site-packages (from jsonpatch<2.0,>=1.33->langchain-core<0.3.0,>=0.2.0->langchain-community) (2.4)\n",
      "Requirement already satisfied: annotated-types>=0.4.0 in c:\\users\\rohit\\appdata\\local\\programs\\python\\python311\\lib\\site-packages (from pydantic<3,>=1->langchain<0.3.0,>=0.2.0->langchain-community) (0.6.0)\n",
      "Requirement already satisfied: pydantic-core==2.18.2 in c:\\users\\rohit\\appdata\\local\\programs\\python\\python311\\lib\\site-packages (from pydantic<3,>=1->langchain<0.3.0,>=0.2.0->langchain-community) (2.18.2)\n",
      "Requirement already satisfied: mypy-extensions>=0.3.0 in c:\\users\\rohit\\appdata\\local\\programs\\python\\python311\\lib\\site-packages (from typing-inspect<1,>=0.4.0->dataclasses-json<0.7,>=0.5.7->langchain-community) (1.0.0)\n",
      "Note: you may need to restart the kernel to use updated packages.\n"
     ]
    }
   ],
   "source": [
    "%pip install -U langchain-community"
   ]
  },
  {
   "cell_type": "code",
   "execution_count": 3,
   "metadata": {},
   "outputs": [
    {
     "name": "stdout",
     "output_type": "stream",
     "text": [
      "Requirement already satisfied: sentence-transformers in c:\\users\\rohit\\appdata\\local\\programs\\python\\python311\\lib\\site-packages (2.7.0)\n",
      "Requirement already satisfied: transformers<5.0.0,>=4.34.0 in c:\\users\\rohit\\appdata\\local\\programs\\python\\python311\\lib\\site-packages (from sentence-transformers) (4.41.0)\n",
      "Requirement already satisfied: tqdm in c:\\users\\rohit\\appdata\\local\\programs\\python\\python311\\lib\\site-packages (from sentence-transformers) (4.66.4)\n",
      "Requirement already satisfied: torch>=1.11.0 in c:\\users\\rohit\\appdata\\local\\programs\\python\\python311\\lib\\site-packages (from sentence-transformers) (2.3.0)\n",
      "Requirement already satisfied: numpy in c:\\users\\rohit\\appdata\\local\\programs\\python\\python311\\lib\\site-packages (from sentence-transformers) (1.26.4)\n",
      "Requirement already satisfied: scikit-learn in c:\\users\\rohit\\appdata\\local\\programs\\python\\python311\\lib\\site-packages (from sentence-transformers) (1.4.2)\n",
      "Requirement already satisfied: scipy in c:\\users\\rohit\\appdata\\local\\programs\\python\\python311\\lib\\site-packages (from sentence-transformers) (1.13.0)\n",
      "Requirement already satisfied: huggingface-hub>=0.15.1 in c:\\users\\rohit\\appdata\\local\\programs\\python\\python311\\lib\\site-packages (from sentence-transformers) (0.23.0)\n",
      "Requirement already satisfied: Pillow in c:\\users\\rohit\\appdata\\local\\programs\\python\\python311\\lib\\site-packages (from sentence-transformers) (10.3.0)\n",
      "Requirement already satisfied: filelock in c:\\users\\rohit\\appdata\\local\\programs\\python\\python311\\lib\\site-packages (from huggingface-hub>=0.15.1->sentence-transformers) (3.14.0)\n",
      "Requirement already satisfied: fsspec>=2023.5.0 in c:\\users\\rohit\\appdata\\local\\programs\\python\\python311\\lib\\site-packages (from huggingface-hub>=0.15.1->sentence-transformers) (2024.5.0)\n",
      "Requirement already satisfied: packaging>=20.9 in c:\\users\\rohit\\appdata\\local\\programs\\python\\python311\\lib\\site-packages (from huggingface-hub>=0.15.1->sentence-transformers) (23.2)\n",
      "Requirement already satisfied: pyyaml>=5.1 in c:\\users\\rohit\\appdata\\local\\programs\\python\\python311\\lib\\site-packages (from huggingface-hub>=0.15.1->sentence-transformers) (6.0.1)\n",
      "Requirement already satisfied: requests in c:\\users\\rohit\\appdata\\local\\programs\\python\\python311\\lib\\site-packages (from huggingface-hub>=0.15.1->sentence-transformers) (2.31.0)\n",
      "Requirement already satisfied: typing-extensions>=3.7.4.3 in c:\\users\\rohit\\appdata\\roaming\\python\\python311\\site-packages (from huggingface-hub>=0.15.1->sentence-transformers) (4.11.0)\n",
      "Requirement already satisfied: sympy in c:\\users\\rohit\\appdata\\local\\programs\\python\\python311\\lib\\site-packages (from torch>=1.11.0->sentence-transformers) (1.12)\n",
      "Requirement already satisfied: networkx in c:\\users\\rohit\\appdata\\local\\programs\\python\\python311\\lib\\site-packages (from torch>=1.11.0->sentence-transformers) (3.3)\n",
      "Requirement already satisfied: jinja2 in c:\\users\\rohit\\appdata\\local\\programs\\python\\python311\\lib\\site-packages (from torch>=1.11.0->sentence-transformers) (3.1.4)\n",
      "Requirement already satisfied: mkl<=2021.4.0,>=2021.1.1 in c:\\users\\rohit\\appdata\\local\\programs\\python\\python311\\lib\\site-packages (from torch>=1.11.0->sentence-transformers) (2021.4.0)\n",
      "Requirement already satisfied: colorama in c:\\users\\rohit\\appdata\\roaming\\python\\python311\\site-packages (from tqdm->sentence-transformers) (0.4.6)\n",
      "Requirement already satisfied: regex!=2019.12.17 in c:\\users\\rohit\\appdata\\local\\programs\\python\\python311\\lib\\site-packages (from transformers<5.0.0,>=4.34.0->sentence-transformers) (2024.5.15)\n",
      "Requirement already satisfied: tokenizers<0.20,>=0.19 in c:\\users\\rohit\\appdata\\local\\programs\\python\\python311\\lib\\site-packages (from transformers<5.0.0,>=4.34.0->sentence-transformers) (0.19.1)\n",
      "Requirement already satisfied: safetensors>=0.4.1 in c:\\users\\rohit\\appdata\\local\\programs\\python\\python311\\lib\\site-packages (from transformers<5.0.0,>=4.34.0->sentence-transformers) (0.4.3)\n",
      "Requirement already satisfied: joblib>=1.2.0 in c:\\users\\rohit\\appdata\\local\\programs\\python\\python311\\lib\\site-packages (from scikit-learn->sentence-transformers) (1.4.2)\n",
      "Requirement already satisfied: threadpoolctl>=2.0.0 in c:\\users\\rohit\\appdata\\local\\programs\\python\\python311\\lib\\site-packages (from scikit-learn->sentence-transformers) (3.5.0)\n",
      "Requirement already satisfied: intel-openmp==2021.* in c:\\users\\rohit\\appdata\\local\\programs\\python\\python311\\lib\\site-packages (from mkl<=2021.4.0,>=2021.1.1->torch>=1.11.0->sentence-transformers) (2021.4.0)\n",
      "Requirement already satisfied: tbb==2021.* in c:\\users\\rohit\\appdata\\local\\programs\\python\\python311\\lib\\site-packages (from mkl<=2021.4.0,>=2021.1.1->torch>=1.11.0->sentence-transformers) (2021.12.0)\n",
      "Requirement already satisfied: MarkupSafe>=2.0 in c:\\users\\rohit\\appdata\\local\\programs\\python\\python311\\lib\\site-packages (from jinja2->torch>=1.11.0->sentence-transformers) (2.1.5)\n",
      "Requirement already satisfied: charset-normalizer<4,>=2 in c:\\users\\rohit\\appdata\\local\\programs\\python\\python311\\lib\\site-packages (from requests->huggingface-hub>=0.15.1->sentence-transformers) (3.3.2)\n",
      "Requirement already satisfied: idna<4,>=2.5 in c:\\users\\rohit\\appdata\\local\\programs\\python\\python311\\lib\\site-packages (from requests->huggingface-hub>=0.15.1->sentence-transformers) (3.7)\n",
      "Requirement already satisfied: urllib3<3,>=1.21.1 in c:\\users\\rohit\\appdata\\local\\programs\\python\\python311\\lib\\site-packages (from requests->huggingface-hub>=0.15.1->sentence-transformers) (2.2.1)\n",
      "Requirement already satisfied: certifi>=2017.4.17 in c:\\users\\rohit\\appdata\\local\\programs\\python\\python311\\lib\\site-packages (from requests->huggingface-hub>=0.15.1->sentence-transformers) (2024.2.2)\n",
      "Requirement already satisfied: mpmath>=0.19 in c:\\users\\rohit\\appdata\\local\\programs\\python\\python311\\lib\\site-packages (from sympy->torch>=1.11.0->sentence-transformers) (1.3.0)\n",
      "Note: you may need to restart the kernel to use updated packages.\n"
     ]
    }
   ],
   "source": [
    "%pip install sentence-transformers"
   ]
  },
  {
   "cell_type": "code",
   "execution_count": 18,
   "metadata": {},
   "outputs": [
    {
     "name": "stdout",
     "output_type": "stream",
     "text": [
      "Collecting langchain-pinecone\n",
      "  Downloading langchain_pinecone-0.1.1-py3-none-any.whl.metadata (1.4 kB)\n",
      "Requirement already satisfied: langchain-core<0.3,>=0.1.52 in c:\\users\\rohit\\appdata\\local\\programs\\python\\python311\\lib\\site-packages (from langchain-pinecone) (0.2.0)\n",
      "Requirement already satisfied: numpy<2,>=1 in c:\\users\\rohit\\appdata\\local\\programs\\python\\python311\\lib\\site-packages (from langchain-pinecone) (1.26.4)\n",
      "Collecting pinecone-client<4.0.0,>=3.2.2 (from langchain-pinecone)\n",
      "  Downloading pinecone_client-3.2.2-py3-none-any.whl.metadata (16 kB)\n",
      "Requirement already satisfied: PyYAML>=5.3 in c:\\users\\rohit\\appdata\\local\\programs\\python\\python311\\lib\\site-packages (from langchain-core<0.3,>=0.1.52->langchain-pinecone) (6.0.1)\n",
      "Requirement already satisfied: jsonpatch<2.0,>=1.33 in c:\\users\\rohit\\appdata\\local\\programs\\python\\python311\\lib\\site-packages (from langchain-core<0.3,>=0.1.52->langchain-pinecone) (1.33)\n",
      "Requirement already satisfied: langsmith<0.2.0,>=0.1.0 in c:\\users\\rohit\\appdata\\local\\programs\\python\\python311\\lib\\site-packages (from langchain-core<0.3,>=0.1.52->langchain-pinecone) (0.1.59)\n",
      "Requirement already satisfied: packaging<24.0,>=23.2 in c:\\users\\rohit\\appdata\\local\\programs\\python\\python311\\lib\\site-packages (from langchain-core<0.3,>=0.1.52->langchain-pinecone) (23.2)\n",
      "Requirement already satisfied: pydantic<3,>=1 in c:\\users\\rohit\\appdata\\local\\programs\\python\\python311\\lib\\site-packages (from langchain-core<0.3,>=0.1.52->langchain-pinecone) (2.7.1)\n",
      "Requirement already satisfied: tenacity<9.0.0,>=8.1.0 in c:\\users\\rohit\\appdata\\local\\programs\\python\\python311\\lib\\site-packages (from langchain-core<0.3,>=0.1.52->langchain-pinecone) (8.3.0)\n",
      "Requirement already satisfied: certifi>=2019.11.17 in c:\\users\\rohit\\appdata\\local\\programs\\python\\python311\\lib\\site-packages (from pinecone-client<4.0.0,>=3.2.2->langchain-pinecone) (2024.2.2)\n",
      "Requirement already satisfied: tqdm>=4.64.1 in c:\\users\\rohit\\appdata\\local\\programs\\python\\python311\\lib\\site-packages (from pinecone-client<4.0.0,>=3.2.2->langchain-pinecone) (4.66.4)\n",
      "Requirement already satisfied: typing-extensions>=3.7.4 in c:\\users\\rohit\\appdata\\roaming\\python\\python311\\site-packages (from pinecone-client<4.0.0,>=3.2.2->langchain-pinecone) (4.11.0)\n",
      "Requirement already satisfied: urllib3>=1.26.0 in c:\\users\\rohit\\appdata\\local\\programs\\python\\python311\\lib\\site-packages (from pinecone-client<4.0.0,>=3.2.2->langchain-pinecone) (2.2.1)\n",
      "Requirement already satisfied: jsonpointer>=1.9 in c:\\users\\rohit\\appdata\\local\\programs\\python\\python311\\lib\\site-packages (from jsonpatch<2.0,>=1.33->langchain-core<0.3,>=0.1.52->langchain-pinecone) (2.4)\n",
      "Requirement already satisfied: orjson<4.0.0,>=3.9.14 in c:\\users\\rohit\\appdata\\local\\programs\\python\\python311\\lib\\site-packages (from langsmith<0.2.0,>=0.1.0->langchain-core<0.3,>=0.1.52->langchain-pinecone) (3.10.3)\n",
      "Requirement already satisfied: requests<3,>=2 in c:\\users\\rohit\\appdata\\local\\programs\\python\\python311\\lib\\site-packages (from langsmith<0.2.0,>=0.1.0->langchain-core<0.3,>=0.1.52->langchain-pinecone) (2.31.0)\n",
      "Requirement already satisfied: annotated-types>=0.4.0 in c:\\users\\rohit\\appdata\\local\\programs\\python\\python311\\lib\\site-packages (from pydantic<3,>=1->langchain-core<0.3,>=0.1.52->langchain-pinecone) (0.6.0)\n",
      "Requirement already satisfied: pydantic-core==2.18.2 in c:\\users\\rohit\\appdata\\local\\programs\\python\\python311\\lib\\site-packages (from pydantic<3,>=1->langchain-core<0.3,>=0.1.52->langchain-pinecone) (2.18.2)\n",
      "Requirement already satisfied: colorama in c:\\users\\rohit\\appdata\\roaming\\python\\python311\\site-packages (from tqdm>=4.64.1->pinecone-client<4.0.0,>=3.2.2->langchain-pinecone) (0.4.6)\n",
      "Requirement already satisfied: charset-normalizer<4,>=2 in c:\\users\\rohit\\appdata\\local\\programs\\python\\python311\\lib\\site-packages (from requests<3,>=2->langsmith<0.2.0,>=0.1.0->langchain-core<0.3,>=0.1.52->langchain-pinecone) (3.3.2)\n",
      "Requirement already satisfied: idna<4,>=2.5 in c:\\users\\rohit\\appdata\\local\\programs\\python\\python311\\lib\\site-packages (from requests<3,>=2->langsmith<0.2.0,>=0.1.0->langchain-core<0.3,>=0.1.52->langchain-pinecone) (3.7)\n",
      "Downloading langchain_pinecone-0.1.1-py3-none-any.whl (8.4 kB)\n",
      "Downloading pinecone_client-3.2.2-py3-none-any.whl (215 kB)\n",
      "   ---------------------------------------- 0.0/215.9 kB ? eta -:--:--\n",
      "   --- ----------------------------------- 20.5/215.9 kB 640.0 kB/s eta 0:00:01\n",
      "   -------------- ------------------------ 81.9/215.9 kB 907.3 kB/s eta 0:00:01\n",
      "   ---------------------------------------  215.0/215.9 kB 1.6 MB/s eta 0:00:01\n",
      "   ---------------------------------------- 215.9/215.9 kB 1.6 MB/s eta 0:00:00\n",
      "Installing collected packages: pinecone-client, langchain-pinecone\n",
      "Successfully installed langchain-pinecone-0.1.1 pinecone-client-3.2.2\n",
      "Note: you may need to restart the kernel to use updated packages.\n"
     ]
    }
   ],
   "source": [
    "%pip install langchain-pinecone"
   ]
  },
  {
   "cell_type": "code",
   "execution_count": 19,
   "metadata": {},
   "outputs": [],
   "source": [
    "from langchain import PromptTemplate        \n",
    "from langchain.chains import RetrievalQA                \n",
    "from langchain.embeddings import HuggingFaceEmbeddings\n",
    "from langchain.vectorstores import Pinecone\n",
    "import pinecone\n",
    "from langchain.document_loaders import PyPDFLoader, DirectoryLoader\n",
    "from langchain.text_splitter import RecursiveCharacterTextSplitter      #for creating chunks\n",
    "from langchain.prompts import PromptTemplate\n",
    "from langchain.llms import ctransformers \n",
    "from sentence_transformers import SentenceTransformer\n",
    "from langchain_pinecone import PineconeVectorStore\n",
    "from pinecone import Pinecone, ServerlessSpec"
   ]
  },
  {
   "cell_type": "code",
   "execution_count": 24,
   "metadata": {},
   "outputs": [],
   "source": [
    "import os"
   ]
  },
  {
   "cell_type": "code",
   "execution_count": 25,
   "metadata": {},
   "outputs": [],
   "source": [
    "os.environ['PINECONE_API_KEY'] = 'dfad884a-1a06-493c-850a-1de28db1b2dc'"
   ]
  },
  {
   "cell_type": "code",
   "execution_count": 5,
   "metadata": {},
   "outputs": [],
   "source": [
    "# PINCONE_API_KEY=\"dfad884a-1a06-493c-850a-1de28db1b2dc\"\n",
    "# PINCONE_API_ENV=\"\"\n",
    "pc = Pinecone(api_key=\"dfad884a-1a06-493c-850a-1de28db1b2dc\")\n",
    "\n",
    "index_name = \"mchatbot\"\n",
    "\n",
    "if index_name not in pc.list_indexes().names():\n",
    "  pc.create_index(\n",
    "  name=\"mchatbot\",\n",
    "  dimension=384,\n",
    "  metric=\"cosine\",\n",
    "  spec=ServerlessSpec(\n",
    "    cloud=\"aws\",\n",
    "    region=\"us-east-1\"\n",
    "  )\n",
    ") "
   ]
  },
  {
   "cell_type": "code",
   "execution_count": 6,
   "metadata": {},
   "outputs": [],
   "source": [
    "# Data extraction from pdf\n",
    "\n",
    "def load_pdf(data):\n",
    "    loader= DirectoryLoader(data,\n",
    "                    glob=\"*.pdf\",\n",
    "                    loader_cls=PyPDFLoader)\n",
    "    \n",
    "    documents= loader.load()\n",
    "\n",
    "    return documents"
   ]
  },
  {
   "cell_type": "code",
   "execution_count": 7,
   "metadata": {},
   "outputs": [
    {
     "name": "stdout",
     "output_type": "stream",
     "text": [
      "Requirement already satisfied: pypdf in c:\\users\\rohit\\appdata\\local\\programs\\python\\python311\\lib\\site-packages (4.2.0)\n",
      "Note: you may need to restart the kernel to use updated packages.\n"
     ]
    }
   ],
   "source": [
    "%pip install pypdf"
   ]
  },
  {
   "cell_type": "code",
   "execution_count": 8,
   "metadata": {},
   "outputs": [],
   "source": [
    "extracted_data = load_pdf(\"data/\")"
   ]
  },
  {
   "cell_type": "code",
   "execution_count": 9,
   "metadata": {},
   "outputs": [],
   "source": [
    "# extracted_data"
   ]
  },
  {
   "cell_type": "code",
   "execution_count": 10,
   "metadata": {},
   "outputs": [],
   "source": [
    "# Creating text Chunks so that the entire pdf is splitted into smaller texts\n",
    "\n",
    "def text_split(extracted_data):\n",
    "    # keeping size of each chunk to be 500 with overlap b/w chunks as 20\n",
    "    text_splitter= RecursiveCharacterTextSplitter(chunk_size= 500, chunk_overlap = 20)\n",
    "    text_chunks= text_splitter.split_documents(extracted_data)\n",
    "\n",
    "    return text_chunks"
   ]
  },
  {
   "cell_type": "code",
   "execution_count": 11,
   "metadata": {},
   "outputs": [
    {
     "name": "stdout",
     "output_type": "stream",
     "text": [
      "No of chunks formed: 10484\n"
     ]
    }
   ],
   "source": [
    "text_chunks=text_split(extracted_data)\n",
    "print(\"No of chunks formed:\", len(text_chunks))"
   ]
  },
  {
   "cell_type": "code",
   "execution_count": 12,
   "metadata": {},
   "outputs": [],
   "source": [
    "# text_chunks"
   ]
  },
  {
   "cell_type": "code",
   "execution_count": 13,
   "metadata": {},
   "outputs": [],
   "source": [
    "# Convert these chunks made into vector\n",
    "\n",
    "# Download the embeddig model\n",
    "\n",
    "def download_hugging_face_embedding():\n",
    "    embeddings= HuggingFaceEmbeddings(model_name=\"sentence-transformers/all-MiniLM-L6-v2\")\n",
    "    return embeddings"
   ]
  },
  {
   "cell_type": "code",
   "execution_count": 14,
   "metadata": {},
   "outputs": [
    {
     "name": "stderr",
     "output_type": "stream",
     "text": [
      "c:\\Users\\rohit\\AppData\\Local\\Programs\\Python\\Python311\\Lib\\site-packages\\huggingface_hub\\file_download.py:1132: FutureWarning: `resume_download` is deprecated and will be removed in version 1.0.0. Downloads always resume when possible. If you want to force a new download, use `force_download=True`.\n",
      "  warnings.warn(\n"
     ]
    }
   ],
   "source": [
    "embeddings= download_hugging_face_embedding()"
   ]
  },
  {
   "cell_type": "code",
   "execution_count": 15,
   "metadata": {},
   "outputs": [
    {
     "data": {
      "text/plain": [
       "HuggingFaceEmbeddings(client=SentenceTransformer(\n",
       "  (0): Transformer({'max_seq_length': 256, 'do_lower_case': False}) with Transformer model: BertModel \n",
       "  (1): Pooling({'word_embedding_dimension': 384, 'pooling_mode_cls_token': False, 'pooling_mode_mean_tokens': True, 'pooling_mode_max_tokens': False, 'pooling_mode_mean_sqrt_len_tokens': False, 'pooling_mode_weightedmean_tokens': False, 'pooling_mode_lasttoken': False, 'include_prompt': True})\n",
       "  (2): Normalize()\n",
       "), model_name='sentence-transformers/all-MiniLM-L6-v2', cache_folder=None, model_kwargs={}, encode_kwargs={}, multi_process=False, show_progress=False)"
      ]
     },
     "execution_count": 15,
     "metadata": {},
     "output_type": "execute_result"
    }
   ],
   "source": [
    "embeddings"
   ]
  },
  {
   "cell_type": "code",
   "execution_count": 16,
   "metadata": {},
   "outputs": [
    {
     "name": "stderr",
     "output_type": "stream",
     "text": [
      "c:\\Users\\rohit\\AppData\\Local\\Programs\\Python\\Python311\\Lib\\site-packages\\huggingface_hub\\file_download.py:1132: FutureWarning: `resume_download` is deprecated and will be removed in version 1.0.0. Downloads always resume when possible. If you want to force a new download, use `force_download=True`.\n",
      "  warnings.warn(\n"
     ]
    },
    {
     "name": "stdout",
     "output_type": "stream",
     "text": [
      "[[ 6.76568970e-02  6.34958893e-02  4.87131625e-02  7.93049783e-02\n",
      "   3.74480598e-02  2.65280833e-03  3.93749252e-02 -7.09846523e-03\n",
      "   5.93614690e-02  3.15369815e-02  6.00980707e-02 -5.29052205e-02\n",
      "   4.06067818e-02 -2.59308573e-02  2.98427679e-02  1.12689380e-03\n",
      "   7.35148266e-02 -5.03819436e-02 -1.22386597e-01  2.37028059e-02\n",
      "   2.97265295e-02  4.24768925e-02  2.56337542e-02  1.99516653e-03\n",
      "  -5.69190606e-02 -2.71597914e-02 -3.29036117e-02  6.60248548e-02\n",
      "   1.19007125e-01 -4.58791181e-02 -7.26214349e-02 -3.25840451e-02\n",
      "   5.23413755e-02  4.50552925e-02  8.25304631e-03  3.67023908e-02\n",
      "  -1.39415385e-02  6.53919131e-02 -2.64272336e-02  2.06404657e-04\n",
      "  -1.36644067e-02 -3.62810045e-02 -1.95043534e-02 -2.89738458e-02\n",
      "   3.94270346e-02 -8.84090886e-02  2.62422930e-03  1.36714159e-02\n",
      "   4.83062528e-02 -3.11564859e-02 -1.17329188e-01 -5.11689931e-02\n",
      "  -8.85287523e-02 -2.18962859e-02  1.42986355e-02  4.44168150e-02\n",
      "  -1.34815034e-02  7.43392408e-02  2.66382936e-02 -1.98762082e-02\n",
      "   1.79190934e-02 -1.06052579e-02 -9.04263109e-02  2.13269554e-02\n",
      "   1.41204879e-01 -6.47175312e-03 -1.40390883e-03 -1.53609840e-02\n",
      "  -8.73571262e-02  7.22173974e-02  2.01402754e-02  4.25587371e-02\n",
      "  -3.49013768e-02  3.19616229e-04 -8.02970827e-02 -3.27472501e-02\n",
      "   2.85268258e-02 -5.13658561e-02  1.09389171e-01  8.19328204e-02\n",
      "  -9.84039977e-02 -9.34095159e-02 -1.51292328e-02  4.51248027e-02\n",
      "   4.94172163e-02 -2.51867920e-02  1.57077536e-02 -1.29290700e-01\n",
      "   5.31897275e-03  4.02344903e-03 -2.34572683e-02 -6.72982931e-02\n",
      "   2.92280763e-02 -2.60845441e-02  1.30624892e-02 -3.11663002e-02\n",
      "  -4.82713953e-02 -5.58859594e-02 -3.87505144e-02  1.20010801e-01\n",
      "  -1.03924377e-02  4.89704609e-02  5.53536788e-02  4.49359268e-02\n",
      "  -4.00965754e-03 -1.02959730e-01 -2.92968377e-02 -5.83402105e-02\n",
      "   2.70472392e-02 -2.20169574e-02 -7.22241849e-02 -4.13869768e-02\n",
      "  -1.93297993e-02  2.73331627e-03  2.76946521e-04 -9.67588201e-02\n",
      "  -1.00574777e-01 -1.41922897e-02 -8.07891637e-02  4.53925617e-02\n",
      "   2.45041512e-02  5.97614087e-02 -7.38185644e-02  1.19843725e-02\n",
      "  -6.63403273e-02 -7.69044980e-02  3.85157578e-02 -5.59361962e-33\n",
      "   2.80013327e-02 -5.60784601e-02 -4.86601479e-02  2.15569660e-02\n",
      "   6.01980314e-02 -4.81403023e-02 -3.50246318e-02  1.93314105e-02\n",
      "  -1.75152216e-02 -3.89210954e-02 -3.81060387e-03 -1.70287862e-02\n",
      "   2.82099321e-02  1.28290495e-02  4.71600927e-02  6.21029921e-02\n",
      "  -6.43588975e-02  1.29285619e-01 -1.31231286e-02  5.23069389e-02\n",
      "  -3.73680852e-02  2.89094560e-02 -1.68981142e-02 -2.37330198e-02\n",
      "  -3.33492160e-02 -5.16762845e-02  1.55356675e-02  2.08803527e-02\n",
      "  -1.25371767e-02  4.59579080e-02  3.72720473e-02  2.80566979e-02\n",
      "  -5.90005778e-02 -1.16988355e-02  4.92182598e-02  4.70328815e-02\n",
      "   7.35487640e-02 -3.70529741e-02  3.98460170e-03  1.06412191e-02\n",
      "  -1.61528907e-04 -5.27166091e-02  2.75928043e-02 -3.92921753e-02\n",
      "   8.44717771e-02  4.86860350e-02 -4.85873083e-03  1.79948527e-02\n",
      "  -4.28569429e-02  1.23375226e-02  6.39960403e-03  4.04822528e-02\n",
      "   1.48887299e-02 -1.53941270e-02  7.62947649e-02  2.37043891e-02\n",
      "   4.45237271e-02  5.08195907e-02 -2.31249630e-03 -1.88737269e-02\n",
      "  -1.23335337e-02  4.66002077e-02 -5.63438199e-02  6.29926845e-02\n",
      "  -3.15535292e-02  3.24912705e-02  2.34672986e-02 -6.55438006e-02\n",
      "   2.01708972e-02  2.57083103e-02 -1.23868324e-02 -8.36498383e-03\n",
      "  -6.64377585e-02  9.43073854e-02 -3.57093327e-02 -3.42482924e-02\n",
      "  -6.66357391e-03 -8.01526848e-03 -3.09711583e-02  4.33012657e-02\n",
      "  -8.21400341e-03 -1.50795043e-01  3.07692103e-02  4.00718562e-02\n",
      "  -3.79294008e-02  1.93211960e-03  4.00530137e-02 -8.77074525e-02\n",
      "  -3.68491523e-02  8.57950561e-03 -3.19251865e-02 -1.25258118e-02\n",
      "   7.35539347e-02  1.34736882e-03  2.05919072e-02  2.71097907e-33\n",
      "  -5.18576838e-02  5.78360930e-02 -9.18985158e-02  3.94422412e-02\n",
      "   1.05576530e-01 -1.96912009e-02  6.18402548e-02 -7.63464123e-02\n",
      "   2.40880344e-02  9.40049812e-02 -1.16535455e-01  3.71198989e-02\n",
      "   5.22425100e-02 -3.95850418e-03  5.72214723e-02  5.32860635e-03\n",
      "   1.24016844e-01  1.39022898e-02 -1.10249482e-02  3.56053300e-02\n",
      "  -3.30754817e-02  8.16573873e-02 -1.52003579e-02  6.05585538e-02\n",
      "  -6.01397492e-02  3.26103009e-02 -3.48296613e-02 -1.69882160e-02\n",
      "  -9.74908099e-02 -2.71483343e-02  1.74706266e-03 -7.68982694e-02\n",
      "  -4.31858227e-02 -1.89985465e-02 -2.91660670e-02  5.77487983e-02\n",
      "   2.41821632e-02 -1.16901686e-02 -6.21434562e-02  2.84351446e-02\n",
      "  -2.37533735e-04 -2.51783170e-02  4.39632684e-03  8.12840462e-02\n",
      "   3.64184715e-02 -6.04006723e-02 -3.65517549e-02 -7.93748125e-02\n",
      "  -5.08529460e-03  6.69698790e-02 -1.17784373e-01  3.23743895e-02\n",
      "  -4.71252054e-02 -1.34459967e-02 -9.48445573e-02  8.24948866e-03\n",
      "  -1.06748724e-02 -6.81882426e-02  1.11812819e-03  2.48019993e-02\n",
      "  -6.35890067e-02  2.84492690e-02 -2.61303782e-02  8.58111307e-02\n",
      "   1.14682287e-01 -5.35345376e-02 -5.63588776e-02  4.26008627e-02\n",
      "   1.09454058e-02  2.09578536e-02  1.00131199e-01  3.26051116e-02\n",
      "  -1.84208736e-01 -3.93208489e-02 -6.91455156e-02 -6.38105199e-02\n",
      "  -6.56385943e-02 -6.41254615e-03 -4.79612201e-02 -7.68133402e-02\n",
      "   2.95384154e-02 -2.29948554e-02  4.17036824e-02 -2.50047967e-02\n",
      "  -4.54506930e-03 -4.17136401e-02 -1.32289464e-02 -6.38357773e-02\n",
      "  -2.46473285e-03 -1.37338024e-02  1.68976914e-02 -6.30398318e-02\n",
      "   8.98881108e-02  4.18170393e-02 -1.85687840e-02 -1.80442150e-08\n",
      "  -1.67998318e-02 -3.21578421e-02  6.30383939e-02 -4.13092040e-02\n",
      "   4.44819517e-02  2.02465104e-03  6.29593059e-02 -5.17375022e-03\n",
      "  -1.00443820e-02 -3.05640474e-02  3.52672562e-02  5.58581389e-02\n",
      "  -4.67124768e-02  3.45102735e-02  3.29577476e-02  4.30114530e-02\n",
      "   2.94361357e-02 -3.03163677e-02 -1.71107650e-02  7.37485513e-02\n",
      "  -5.47909960e-02  2.77515110e-02  6.20167330e-03  1.58800557e-02\n",
      "   3.42978612e-02 -5.15750656e-03  2.35079136e-02  7.53135607e-02\n",
      "   1.92843527e-02  3.36197019e-02  5.09103984e-02  1.52497083e-01\n",
      "   1.64207667e-02  2.70528533e-02  3.75162624e-02  2.18553822e-02\n",
      "   5.66334054e-02 -3.95747721e-02  7.12313354e-02 -5.41376993e-02\n",
      "   1.03776495e-03  2.11852770e-02 -3.56308781e-02  1.09017000e-01\n",
      "   2.76530697e-03  3.13997231e-02  1.38425280e-03 -3.45737971e-02\n",
      "  -4.59277518e-02  2.88083069e-02  7.16906926e-03  4.84684967e-02\n",
      "   2.61018053e-02 -9.44073591e-03  2.82169133e-02  3.48723531e-02\n",
      "   3.69098745e-02 -8.58952943e-03 -3.53205614e-02 -2.47856993e-02\n",
      "  -1.91921201e-02  3.80708054e-02  5.99654242e-02 -4.22287285e-02]\n",
      " [ 8.64385515e-02  1.02762610e-01  5.39454818e-03  2.04441557e-03\n",
      "  -9.96337831e-03  2.53855232e-02  4.92875725e-02 -3.06265522e-02\n",
      "   6.87254816e-02  1.01365969e-02  7.75398165e-02 -9.00807157e-02\n",
      "   6.10617967e-03 -5.69899119e-02  1.41715426e-02  2.80491468e-02\n",
      "  -8.68464485e-02  7.64398724e-02 -1.03491306e-01 -6.77437559e-02\n",
      "   6.99947104e-02  8.44250843e-02 -7.24917604e-03  1.04770409e-02\n",
      "   1.34020671e-02  6.77577034e-02 -9.42085907e-02 -3.71689573e-02\n",
      "   5.22617698e-02 -3.10853366e-02 -9.63406712e-02  1.57717410e-02\n",
      "   2.57866960e-02  7.85244927e-02  7.89949223e-02  1.91516764e-02\n",
      "   1.64357014e-02  3.10083316e-03  3.81311327e-02  2.37090420e-02\n",
      "   1.05389431e-02 -4.40644845e-02  4.41738702e-02 -2.58727707e-02\n",
      "   6.15379214e-02 -4.05427739e-02 -8.64140540e-02  3.19722407e-02\n",
      "  -8.90711090e-04 -2.44437326e-02 -9.19721499e-02  2.33939514e-02\n",
      "  -8.30293223e-02  4.41510640e-02 -2.49692556e-02  6.23020232e-02\n",
      "  -1.30352040e-03  7.51395598e-02  2.46384796e-02 -6.47244453e-02\n",
      "  -1.17727786e-01  3.83391939e-02 -9.11767632e-02  6.35446236e-02\n",
      "   7.62739554e-02 -8.80241543e-02  9.54553299e-03 -4.69717644e-02\n",
      "  -8.41740966e-02  3.88823301e-02 -1.14393592e-01  6.28859689e-03\n",
      "  -3.49361151e-02  2.39750911e-02 -3.31317335e-02 -1.57244056e-02\n",
      "  -3.78955528e-02 -8.81249271e-03  7.06119090e-02  3.28066275e-02\n",
      "   2.03673192e-03 -1.12278946e-01  6.79723406e-03  1.22765722e-02\n",
      "   3.35303284e-02 -1.36200488e-02 -2.25490127e-02 -2.25229133e-02\n",
      "  -2.03194525e-02  5.04297577e-02 -7.48652369e-02 -8.22822601e-02\n",
      "   7.65962824e-02  4.93392386e-02 -3.75552922e-02  1.44634759e-02\n",
      "  -5.72457723e-02 -1.79954413e-02  1.09697945e-01  1.19462788e-01\n",
      "   8.09206103e-04  6.17057905e-02  3.26322392e-02 -1.30780086e-01\n",
      "  -1.48636624e-01 -6.16232902e-02  4.33885753e-02  2.67129354e-02\n",
      "   1.39785884e-02 -3.94002683e-02 -2.52711400e-02  3.87744186e-03\n",
      "   3.58664803e-02 -6.15420379e-02  3.76660973e-02  2.67564803e-02\n",
      "  -3.82659473e-02 -3.54793444e-02 -2.39227582e-02  8.67977291e-02\n",
      "  -1.84063222e-02  7.71039277e-02  1.39862916e-03  7.00382963e-02\n",
      "  -4.77877930e-02 -7.89820254e-02  5.10814525e-02 -2.99868535e-33\n",
      "  -3.91646214e-02 -2.56205746e-03  1.65210273e-02  9.48940683e-03\n",
      "  -5.66219576e-02  6.57782555e-02 -4.77002822e-02  1.11662196e-02\n",
      "  -5.73558584e-02 -9.16259084e-03 -2.17520893e-02 -5.59532084e-02\n",
      "  -1.11422688e-02  9.32793766e-02  1.66765247e-02 -1.36723416e-02\n",
      "   4.34388183e-02  1.87247409e-03  7.29947258e-03  5.16331866e-02\n",
      "   4.80608344e-02  1.35341495e-01 -1.71739012e-02 -1.29698720e-02\n",
      "  -7.50109777e-02  2.61107944e-02  2.69802175e-02  7.83021329e-04\n",
      "  -4.87270094e-02  1.17842769e-02 -4.59580198e-02 -4.83214036e-02\n",
      "  -1.95671003e-02  1.93889290e-02  1.98807418e-02  1.67432409e-02\n",
      "   9.87801552e-02 -2.74088085e-02  2.34808549e-02  3.70228989e-03\n",
      "  -6.14514686e-02 -1.21227559e-03 -9.50471777e-03  9.25153401e-03\n",
      "   2.38444172e-02  8.61231834e-02  2.26790067e-02  5.45098737e-04\n",
      "   3.47129777e-02  6.25464646e-03 -6.92774216e-03  3.92400734e-02\n",
      "   1.15675181e-02  3.26279812e-02  6.22155294e-02  2.76114158e-02\n",
      "   1.86883751e-02  3.55806015e-02  4.11795825e-02  1.54782105e-02\n",
      "   4.22691666e-02  3.82248722e-02  1.00313593e-02 -2.83245984e-02\n",
      "   4.47052643e-02 -4.10459079e-02 -4.50551463e-03 -5.44734187e-02\n",
      "   2.62321476e-02  1.79862473e-02 -1.23118773e-01 -4.66952175e-02\n",
      "  -1.35913286e-02  6.46710843e-02  3.57349846e-03 -1.22234141e-02\n",
      "  -1.79381929e-02 -2.55502183e-02  2.37224344e-02  4.08666115e-03\n",
      "  -6.51475862e-02  4.43651490e-02  4.68595810e-02 -3.25174630e-02\n",
      "   4.02271328e-03 -3.97600746e-03  1.11939898e-02 -9.95597243e-02\n",
      "   3.33168395e-02  8.01060945e-02  9.42692384e-02 -6.38294294e-02\n",
      "   3.23151238e-02 -5.13553433e-02 -7.49877002e-03  5.30050423e-34\n",
      "  -4.13194485e-02  9.49647352e-02 -1.06401443e-01  4.96590324e-02\n",
      "  -3.41913216e-02 -3.16745974e-02 -1.71555784e-02  1.70104532e-03\n",
      "   5.79758286e-02 -1.21778552e-03 -1.68536268e-02 -5.16912229e-02\n",
      "   5.52998744e-02 -3.42647508e-02  3.08179595e-02 -3.10481228e-02\n",
      "   9.27532390e-02  3.72663736e-02 -2.37397831e-02  4.45893817e-02\n",
      "   1.46153178e-02  1.16239369e-01 -5.00112772e-02  3.88715938e-02\n",
      "   4.24750149e-03  2.56976690e-02  3.27243470e-02  4.29907888e-02\n",
      "  -1.36144478e-02  2.56121792e-02  1.06262462e-02 -8.46864283e-02\n",
      "  -9.52982455e-02  1.08399898e-01 -7.51600340e-02 -1.37773864e-02\n",
      "   6.37338161e-02 -4.49673645e-03 -3.25321667e-02  6.23613745e-02\n",
      "   3.48052718e-02 -3.54922302e-02 -2.00222749e-02  3.66608091e-02\n",
      "  -2.48837247e-02  1.01818778e-02 -7.01232851e-02 -4.31950800e-02\n",
      "   2.95332894e-02 -2.94990867e-04 -3.45386080e-02  1.46675622e-02\n",
      "  -9.83970016e-02 -4.70488295e-02 -8.85497313e-03 -8.89914334e-02\n",
      "   3.50995995e-02 -1.29601970e-01 -4.98866141e-02 -6.12047575e-02\n",
      "  -5.97796887e-02  9.46320966e-03  4.91217524e-02 -7.75026754e-02\n",
      "   8.09727162e-02 -4.79257628e-02  2.34375335e-03  7.57031366e-02\n",
      "  -2.40175892e-02 -1.52546689e-02  4.86738011e-02 -3.85968611e-02\n",
      "  -7.04831481e-02 -1.20348288e-02 -3.88790891e-02 -7.76016936e-02\n",
      "  -1.07243899e-02  1.04188118e-02 -2.13753637e-02 -9.17386413e-02\n",
      "  -1.11344876e-02 -2.96066366e-02  2.46458333e-02  4.65714559e-03\n",
      "  -1.63449626e-02 -3.95219959e-02  7.73373321e-02 -2.84733139e-02\n",
      "  -3.69941164e-03  8.27665329e-02 -1.10409176e-02  3.13983858e-02\n",
      "   5.35094440e-02  5.75146116e-02 -3.17622162e-02 -1.52911284e-08\n",
      "  -7.99661428e-02 -4.76796553e-02 -8.59788433e-02  5.69616519e-02\n",
      "  -4.08866219e-02  2.23832205e-02 -4.64443490e-03 -3.80130932e-02\n",
      "  -3.10670994e-02 -1.07277771e-02  1.97698586e-02  7.76998419e-03\n",
      "  -6.09476259e-03 -3.86376232e-02  2.80272011e-02  6.78137913e-02\n",
      "  -2.35350970e-02  3.21747623e-02  8.02536774e-03 -2.39106864e-02\n",
      "  -1.21997821e-03  3.14599238e-02 -5.24924323e-02 -8.06809589e-03\n",
      "   3.14770895e-03  5.11496663e-02 -4.44104597e-02  6.36013448e-02\n",
      "   3.85084040e-02  3.30432616e-02 -4.18727146e-03  4.95592877e-02\n",
      "  -5.69605045e-02 -6.49711583e-03 -2.49793231e-02 -1.60866808e-02\n",
      "   6.62289411e-02 -2.06310712e-02  1.08045779e-01  1.68547221e-02\n",
      "   1.43813239e-02 -1.32127125e-02 -1.29387423e-01  6.95216581e-02\n",
      "  -5.55772632e-02 -6.75413385e-02 -5.45818033e-03 -6.13595545e-03\n",
      "   3.90840843e-02 -6.28780052e-02  3.74063402e-02 -1.16570741e-02\n",
      "   1.29150478e-02 -5.52495494e-02  5.16075864e-02 -4.30837786e-03\n",
      "   5.80247268e-02  1.86944995e-02  2.27810368e-02  3.21665704e-02\n",
      "   5.37978970e-02  7.02849105e-02  7.49312490e-02 -8.41775015e-02]]\n"
     ]
    }
   ],
   "source": [
    "sentences = [\"This is an example sentence\", \"Each sentence is converted\"]\n",
    "\n",
    "model = SentenceTransformer('sentence-transformers/all-MiniLM-L6-v2')\n",
    "embeddings_val = model.encode(sentences)\n",
    "print(embeddings_val)"
   ]
  },
  {
   "cell_type": "code",
   "execution_count": 17,
   "metadata": {},
   "outputs": [
    {
     "name": "stdout",
     "output_type": "stream",
     "text": [
      "Length of embedding: 384\n"
     ]
    }
   ],
   "source": [
    "query_result = embeddings.embed_query(\"Hello World!\")\n",
    "print(\"Length of embedding:\", len(query_result))"
   ]
  },
  {
   "cell_type": "code",
   "execution_count": 27,
   "metadata": {},
   "outputs": [],
   "source": [
    "vectorstore = PineconeVectorStore.from_documents(\n",
    "        documents=text_chunks,\n",
    "        index_name=index_name,\n",
    "        embedding=embeddings\n",
    "    )"
   ]
  },
  {
   "cell_type": "code",
   "execution_count": 28,
   "metadata": {},
   "outputs": [
    {
     "data": {
      "text/plain": [
       "<langchain_pinecone.vectorstores.PineconeVectorStore at 0x1e1bf879590>"
      ]
     },
     "execution_count": 28,
     "metadata": {},
     "output_type": "execute_result"
    }
   ],
   "source": [
    "vectorstore"
   ]
  }
 ],
 "metadata": {
  "kernelspec": {
   "display_name": "mchatbot",
   "language": "python",
   "name": "python3"
  },
  "language_info": {
   "codemirror_mode": {
    "name": "ipython",
    "version": 3
   },
   "file_extension": ".py",
   "mimetype": "text/x-python",
   "name": "python",
   "nbconvert_exporter": "python",
   "pygments_lexer": "ipython3",
   "version": "3.11.9"
  }
 },
 "nbformat": 4,
 "nbformat_minor": 2
}
